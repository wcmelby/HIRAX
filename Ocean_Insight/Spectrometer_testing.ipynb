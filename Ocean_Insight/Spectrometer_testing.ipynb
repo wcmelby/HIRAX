{
 "cells": [
  {
   "cell_type": "code",
   "execution_count": 48,
   "metadata": {},
   "outputs": [],
   "source": [
    "import sys, os\n",
    "import numpy as np\n",
    "import matplotlib.pyplot as plt\n",
    "from scipy.signal import savgol_filter"
   ]
  },
  {
   "cell_type": "code",
   "execution_count": 2,
   "metadata": {},
   "outputs": [
    {
     "name": "stdout",
     "output_type": "stream",
     "text": [
      "Path exists and added to sys.path: C:/Program Files/Ocean Optics/OceanDirect SDK/Python/\n"
     ]
    }
   ],
   "source": [
    "# Add the directory containing oceandirect to the Python path\n",
    "oceandirect_path = 'C:/Program Files/Ocean Optics/OceanDirect SDK/Python/'\n",
    "if os.path.exists(oceandirect_path):\n",
    "    sys.path.append(os.path.abspath(oceandirect_path))\n",
    "    print(f\"Path exists and added to sys.path: {oceandirect_path}\")\n",
    "else:\n",
    "    print(f\"Path does not exist: {oceandirect_path}\")"
   ]
  },
  {
   "cell_type": "code",
   "execution_count": 5,
   "metadata": {},
   "outputs": [
    {
     "name": "stdout",
     "output_type": "stream",
     "text": [
      "Import successful\n"
     ]
    }
   ],
   "source": [
    "# try:\n",
    "#     from oceandirect.OceanDirectAPI import OceanDirectAPI, OceanDirectError, Spectrometer\n",
    "#     print(\"Import successful\")\n",
    "# except ImportError as e:\n",
    "#     print(f\"Import failed: {e}\")"
   ]
  },
  {
   "cell_type": "code",
   "execution_count": 3,
   "metadata": {},
   "outputs": [
    {
     "data": {
      "text/plain": [
       "'c:\\\\Users\\\\Willi\\\\Documents\\\\GitHub\\\\HIRAX\\\\Ocean_Insight'"
      ]
     },
     "execution_count": 3,
     "metadata": {},
     "output_type": "execute_result"
    }
   ],
   "source": [
    "os.getcwd()"
   ]
  },
  {
   "cell_type": "code",
   "execution_count": 3,
   "metadata": {},
   "outputs": [],
   "source": [
    "from multiprocessing_read_spectra import read_all_serial_numbers, readSpectra\n",
    "from oceandirect.OceanDirectAPI import Spectrometer, OceanDirectAPI\n",
    "odapi = OceanDirectAPI()"
   ]
  },
  {
   "cell_type": "code",
   "execution_count": 4,
   "metadata": {},
   "outputs": [
    {
     "name": "stdout",
     "output_type": "stream",
     "text": [
      "['HR4P0848']\n"
     ]
    }
   ],
   "source": [
    "serial_number = read_all_serial_numbers()\n",
    "print(serial_number)\n",
    "# output = []"
   ]
  },
  {
   "cell_type": "code",
   "execution_count": 5,
   "metadata": {},
   "outputs": [
    {
     "name": "stdout",
     "output_type": "stream",
     "text": [
      "Device count: 1\n",
      "Started reading spectra with serial#: HR4P0848\n",
      "serial#/spectra:  HR4P0848 = 19, -3, -3, -2 \n",
      "\n",
      "Closing device with serial#: HR4P0848\n"
     ]
    }
   ],
   "source": [
    "# readSpectra(serial_number, exposure time in microseconds, number of scans, output countaining the full spectrum). Will return select wavelength values. \n",
    "output1 = readSpectra(read_all_serial_numbers()[0], 10000, 1)"
   ]
  },
  {
   "cell_type": "code",
   "execution_count": 6,
   "metadata": {},
   "outputs": [
    {
     "name": "stdout",
     "output_type": "stream",
     "text": [
      "Device count: 1\n",
      "Device ID: 5\n",
      "INFO:  Buffer size returned: 4  \n",
      "[578.87891, 0.060298093, -1.6155815e-06, -2.616294e-11]\n",
      "[1.00155, -1.17149e-05, 8.81667e-09, -3.13081e-12, 5.93461e-16, -6.03153e-20, 3.07272e-24, -6.16884e-29]\n"
     ]
    }
   ],
   "source": [
    "deviceCount = odapi.find_usb_devices()\n",
    "print('Device count:', deviceCount)\n",
    "device_id = odapi.get_device_ids()\n",
    "if not device_id:\n",
    "    raise Exception(\"No devices found\")\n",
    "print('Device ID:', device_id[0])\n",
    "\n",
    "device = odapi.open_device(device_id[0])  # Initialize your device object here\n",
    "\n",
    "# # Create an instance of the Spectrometer.Advanced class\n",
    "spectrometer_advanced = Spectrometer.Advanced(device)\n",
    "\n",
    "# # Call the get_wavelength_coeffs method\n",
    "wavelength_coeffs = spectrometer_advanced.get_wavelength_coeffs()\n",
    "nonlinearity_coeffs = spectrometer_advanced.get_nonlinearity_coeffs()\n",
    "\n",
    "print(wavelength_coeffs)\n",
    "print(nonlinearity_coeffs)"
   ]
  },
  {
   "cell_type": "code",
   "execution_count": 27,
   "metadata": {},
   "outputs": [],
   "source": [
    "def correct_nonlinearity(raw_intensity):\n",
    "    raw_intensity = np.array(raw_intensity, dtype=float)\n",
    "    corrected_intensity = raw_intensity.copy()\n",
    "    # corrected_intensity = np.array(corrected_intensity)\n",
    "\n",
    "    for i, coeff in enumerate(nonlinearity_coeffs):\n",
    "        corrected_intensity += coeff * raw_intensity**(i + 1)\n",
    "        \n",
    "    return corrected_intensity"
   ]
  },
  {
   "cell_type": "code",
   "execution_count": 24,
   "metadata": {},
   "outputs": [
    {
     "name": "stdout",
     "output_type": "stream",
     "text": [
      "[1 2 3 4 5]\n",
      "[1.00155, -1.17149e-05, 8.81667e-09, -3.13081e-12, 5.93461e-16, -6.03153e-20, 3.07272e-24, -6.16884e-29]\n",
      "1.00155\n",
      "-1.17149e-05\n",
      "8.81667e-09\n",
      "-3.13081e-12\n",
      "5.93461e-16\n",
      "-6.03153e-20\n",
      "3.07272e-24\n",
      "-6.16884e-29\n"
     ]
    }
   ],
   "source": [
    "corrected_intensity = np.array(raw_intensity)\n",
    "print(corrected_intensity)\n",
    "print(nonlinearity_coeffs)\n",
    "\n",
    "for i, coeff in enumerate(nonlinearity_coeffs):\n",
    "    print(coeff)\n",
    "    # corrected_intensity += coeff * raw_intensity**(i + 1)"
   ]
  },
  {
   "cell_type": "code",
   "execution_count": 29,
   "metadata": {},
   "outputs": [
    {
     "data": {
      "text/plain": [
       "array([ 2.00153829,  4.00305321,  6.0045448 ,  8.00601313, 10.00745823])"
      ]
     },
     "execution_count": 29,
     "metadata": {},
     "output_type": "execute_result"
    }
   ],
   "source": [
    "raw_intensity = np.array([1, 2, 3, 4, 5])\n",
    "correct_nonlinearity(raw_intensity)"
   ]
  },
  {
   "cell_type": "code",
   "execution_count": 40,
   "metadata": {},
   "outputs": [],
   "source": [
    "def correct_spectrum(output):\n",
    "    data = output[0]\n",
    "    name = data[0]\n",
    "    raw_spectrum = data[1:]\n",
    "    raw_spectrum = raw_spectrum[0]\n",
    "    num_data_points = len(raw_spectrum) # 3648\n",
    "\n",
    "    deviceCount = odapi.find_usb_devices()\n",
    "    device_id = odapi.get_device_ids()\n",
    "    if not device_id:\n",
    "        raise Exception(\"No devices found\")\n",
    "\n",
    "    device = odapi.open_device(device_id[0])  # Initialize your device object here\n",
    "\n",
    "    # # Create an instance of the Spectrometer.Advanced class\n",
    "    spectrometer_advanced = Spectrometer.Advanced(device)\n",
    "\n",
    "    # # Call the get_wavelength_coeffs method\n",
    "    wavelength_coeffs = spectrometer_advanced.get_wavelength_coeffs()\n",
    "    nonlinearity_coeffs = spectrometer_advanced.get_nonlinearity_coeffs()\n",
    "\n",
    "    for i in range(len(wavelength_coeffs)):\n",
    "        exec(f'c{i} = wavelength_coeffs[i]')\n",
    "\n",
    "    pixels = np.arange(num_data_points)\n",
    "    wavelengths = c0 + c1 * pixels + c2 * pixels**2 + c3 * pixels**3 # polynomial equation to convert pixel values to wavelengths\n",
    "\n",
    "    correct_spectrum = correct_nonlinearity(raw_spectrum)\n",
    "\n",
    "    odapi.close_device(device_id[0])\n",
    "\n",
    "    return wavelengths, correct_spectrum"
   ]
  },
  {
   "cell_type": "code",
   "execution_count": null,
   "metadata": {},
   "outputs": [],
   "source": [
    "# Make a dictionary of filter profiles at different temperatures\n",
    "# filtered_spectra = {\n",
    "#     20: spectrum20,\n",
    "#     30: spectrum30,\n",
    "#     40: spectrum40,\n",
    "# }"
   ]
  },
  {
   "cell_type": "code",
   "execution_count": null,
   "metadata": {},
   "outputs": [],
   "source": [
    "# def normalize_spectrum(baseline, filtered):\n",
    "#     normalized_spectra = {}\n",
    "#     for temp, filtered in filtered_spectra.items():\n",
    "#         normalized = filtered / baseline\n",
    "#         smoothed = savgol_filter(normalized, window_length=5, polyorder=2)\n",
    "#         normalized_spectra[temp] = smoothed\n",
    "\n",
    "#     return normalized_spectra"
   ]
  },
  {
   "cell_type": "code",
   "execution_count": null,
   "metadata": {},
   "outputs": [],
   "source": [
    "# plt.figure()\n",
    "# for temp, spectrum in normalized_spectra.items():\n",
    "#     plt.plot(wavelengths1, spectrum, label=f'Temperature {temp}°C')\n",
    "# plt.xlabel('Wavelength (nm)')\n",
    "# plt.ylabel('Normalized Throughput')\n",
    "# plt.legend()\n",
    "# plt.show()"
   ]
  },
  {
   "cell_type": "code",
   "execution_count": null,
   "metadata": {},
   "outputs": [],
   "source": [
    "# # Plot throughput at a specific wavelength vs. temperature\n",
    "# specific_wavelength = 500  # example wavelength\n",
    "# specific_wavelength_index = np.argmin(np.abs(wavelengths1 - specific_wavelength))\n",
    "# throughput_vs_temp = {temp: spectrum[specific_wavelength_index] for temp, spectrum in normalized_spectra.items()}\n",
    "\n",
    "# plt.figure()\n",
    "# plt.plot(list(throughput_vs_temp.keys()), list(throughput_vs_temp.values()), marker='o')\n",
    "# plt.xlabel('Temperature (°C)')\n",
    "# plt.ylabel(f'Throughput at {specific_wavelength} nm')\n",
    "# plt.show()"
   ]
  },
  {
   "cell_type": "code",
   "execution_count": 34,
   "metadata": {},
   "outputs": [
    {
     "name": "stdout",
     "output_type": "stream",
     "text": [
      "INFO:  Buffer size returned: 4  \n"
     ]
    }
   ],
   "source": [
    "wavelengths1, spectrum1 = correct_spectrum(output1)"
   ]
  },
  {
   "cell_type": "code",
   "execution_count": 37,
   "metadata": {},
   "outputs": [
    {
     "data": {
      "image/png": "[encoded data removed]",
      "text/plain": [
       "<Figure size 720x432 with 1 Axes>"
      ]
     },
     "metadata": {
      "needs_background": "light"
     },
     "output_type": "display_data"
    }
   ],
   "source": [
    "plt.figure(figsize=(10, 6))\n",
    "plt.plot(wavelengths1, spectrum1, label='Corrected Spectrum', color='cornflowerblue')\n",
    "plt.xlabel('Wavelength (nm)', fontweight='bold')\n",
    "plt.ylabel('Intensity', fontweight='bold')\n",
    "plt.title('Corrected Spectrum vs. Wavelength', fontweight='bold')\n",
    "plt.legend()\n",
    "plt.show()"
   ]
  },
  {
   "cell_type": "code",
   "execution_count": 42,
   "metadata": {},
   "outputs": [
    {
     "name": "stdout",
     "output_type": "stream",
     "text": [
      "Device count: 1\n",
      "Started reading spectra with serial#: HR4P0848\n",
      "serial#/spectra:  HR4P0848 = 870, 878, 929, 875 \n",
      "\n",
      "Closing device with serial#: HR4P0848\n",
      "INFO:  Buffer size returned: 4  \n"
     ]
    }
   ],
   "source": [
    "output2 = readSpectra(read_all_serial_numbers()[0], 10000, 1)\n",
    "wavelengths2, spectrum2 = correct_spectrum(output2)"
   ]
  },
  {
   "cell_type": "code",
   "execution_count": 82,
   "metadata": {},
   "outputs": [
    {
     "data": {
      "image/png": "[encoded data removed]",
      "text/plain": [
       "<Figure size 720x432 with 1 Axes>"
      ]
     },
     "metadata": {
      "needs_background": "light"
     },
     "output_type": "display_data"
    }
   ],
   "source": [
    "plt.figure(figsize=(10, 6))\n",
    "plt.plot(wavelengths2, spectrum2, label='Baseline Spectrum', color='cornflowerblue')\n",
    "plt.xlabel('Wavelength (nm)', fontweight='bold', fontsize=12)\n",
    "plt.ylabel('Intensity', fontweight='bold', fontsize=12)\n",
    "plt.title('Corrected Spectrum vs. Wavelength', fontweight='bold', fontsize=14)\n",
    "plt.legend()\n",
    "plt.show()"
   ]
  },
  {
   "cell_type": "code",
   "execution_count": 50,
   "metadata": {},
   "outputs": [
    {
     "name": "stdout",
     "output_type": "stream",
     "text": [
      "Device count: 1\n",
      "Started reading spectra with serial#: HR4P0848\n",
      "serial#/spectra:  HR4P0848 = 897, 914, 947, 886 \n",
      "\n",
      "Closing device with serial#: HR4P0848\n",
      "INFO:  Buffer size returned: 4  \n"
     ]
    }
   ],
   "source": [
    "base_output = readSpectra(read_all_serial_numbers()[0], 10000, 1)\n",
    "base_wavelengths, base_spectrum = correct_spectrum(base_output)"
   ]
  },
  {
   "cell_type": "code",
   "execution_count": 51,
   "metadata": {},
   "outputs": [
    {
     "name": "stdout",
     "output_type": "stream",
     "text": [
      "Device count: 1\n",
      "Started reading spectra with serial#: HR4P0848\n",
      "serial#/spectra:  HR4P0848 = -8, 1, 0, 4 \n",
      "\n",
      "Closing device with serial#: HR4P0848\n",
      "INFO:  Buffer size returned: 4  \n"
     ]
    }
   ],
   "source": [
    "filter_607_output = readSpectra(read_all_serial_numbers()[0], 10000, 1)\n",
    "base_wavelengths, filter_607_spectrum = correct_spectrum(filter_607_output)"
   ]
  },
  {
   "cell_type": "code",
   "execution_count": 70,
   "metadata": {},
   "outputs": [],
   "source": [
    "normalized = filter_607_spectrum / base_spectrum\n",
    "smoothed = savgol_filter(normalized, window_length=5, polyorder=2)\n",
    "percent_transmission = smoothed * 100"
   ]
  },
  {
   "cell_type": "code",
   "execution_count": 80,
   "metadata": {},
   "outputs": [
    {
     "data": {
      "image/png": "[encoded data removed]",
      "text/plain": [
       "<Figure size 432x288 with 1 Axes>"
      ]
     },
     "metadata": {
      "needs_background": "light"
     },
     "output_type": "display_data"
    }
   ],
   "source": [
    "plt.figure()\n",
    "plt.plot(base_wavelengths[20:-20], filter_607_spectrum[20:-20], label='607.4 nm Filter')\n",
    "plt.plot(base_wavelengths[20:-20], base_spectrum[20:-20], label='Base Spectrum')\n",
    "# plt.plot(base_wavelengths[20:-20], percent_transmission[20:-20], label='% Transmission') # exclude the first and last 20 points\n",
    "\n",
    "plt.xlabel('Wavelength (nm)')\n",
    "plt.ylabel('Normalized Throughput')\n",
    "plt.legend()\n",
    "plt.show()"
   ]
  },
  {
   "cell_type": "code",
   "execution_count": 65,
   "metadata": {},
   "outputs": [
    {
     "name": "stdout",
     "output_type": "stream",
     "text": [
      "472\n",
      "-2.906815078742435\n"
     ]
    }
   ],
   "source": [
    "specific_wavelength = 607  # example wavelength\n",
    "specific_wavelength_index = np.argmin(np.abs(base_wavelengths - specific_wavelength))\n",
    "print(specific_wavelength_index)\n",
    "print(filter_607_spectrum[specific_wavelength_index])\n",
    "# throughput_vs_temp = {temp: spectrum[specific_wavelength_index] for temp, spectrum in normalized_spectra.items()}"
   ]
  },
  {
   "cell_type": "code",
   "execution_count": 69,
   "metadata": {},
   "outputs": [
    {
     "name": "stdout",
     "output_type": "stream",
     "text": [
      "563.4047055431631\n",
      "495\n",
      "608.3274349436476\n"
     ]
    }
   ],
   "source": [
    "print(max(filter_607_spectrum))\n",
    "index_of_max_value = np.argmax(filter_607_spectrum)\n",
    "print(index_of_max_value)\n",
    "print(base_wavelengths[index_of_max_value])"
   ]
  },
  {
   "cell_type": "code",
   "execution_count": 68,
   "metadata": {},
   "outputs": [
    {
     "name": "stdout",
     "output_type": "stream",
     "text": [
      "[ -0.90838504 -36.87649127  -2.90681508  -0.90838504  11.08268514\n",
      "  -2.90681508  17.0785328   39.06506362  19.07719465 -34.8784675\n",
      "   3.08854525  27.07207044 -16.89516522  21.07587939  13.081278\n",
      "  11.08268514  85.04556973  81.04681063 103.04102997 169.0385084\n",
      " 217.04989979 331.11760742 397.1805364  451.24368429 551.38565352\n",
      " 563.40470554 511.3251742  407.19146594 267.07283943 161.03766724]\n"
     ]
    }
   ],
   "source": [
    "print(filter_607_spectrum[470:500])"
   ]
  }
 ],
 "metadata": {
  "kernelspec": {
   "display_name": "SpecsimV2",
   "language": "python",
   "name": "python3"
  },
  "language_info": {
   "codemirror_mode": {
    "name": "ipython",
    "version": 3
   },
   "file_extension": ".py",
   "mimetype": "text/x-python",
   "name": "python",
   "nbconvert_exporter": "python",
   "pygments_lexer": "ipython3",
   "version": "3.9.12"
  }
 },
 "nbformat": 4,
 "nbformat_minor": 2
}
