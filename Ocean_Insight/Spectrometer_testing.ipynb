{
 "cells": [
  {
   "cell_type": "code",
   "execution_count": 6,
   "metadata": {},
   "outputs": [],
   "source": [
    "import sys\n",
    "import os"
   ]
  },
  {
   "cell_type": "code",
   "execution_count": 17,
   "metadata": {},
   "outputs": [
    {
     "name": "stdout",
     "output_type": "stream",
     "text": [
      "Path exists and added to sys.path: C:/Program Files/Ocean Optics/OceanDirect SDK/Python/\n"
     ]
    }
   ],
   "source": [
    "# Add the directory containing oceandirect to the Python path\n",
    "oceandirect_path = 'C:/Program Files/Ocean Optics/OceanDirect SDK/Python/'  # Replace with the actual path\n",
    "if os.path.exists(oceandirect_path):\n",
    "    sys.path.append(os.path.abspath(oceandirect_path))\n",
    "    print(f\"Path exists and added to sys.path: {oceandirect_path}\")\n",
    "else:\n",
    "    print(f\"Path does not exist: {oceandirect_path}\")"
   ]
  },
  {
   "cell_type": "code",
   "execution_count": 18,
   "metadata": {},
   "outputs": [
    {
     "name": "stdout",
     "output_type": "stream",
     "text": [
      "Import successful\n"
     ]
    }
   ],
   "source": [
    "try:\n",
    "    from oceandirect.OceanDirectAPI import OceanDirectAPI, OceanDirectError, Spectrometer\n",
    "    print(\"Import successful\")\n",
    "except ImportError as e:\n",
    "    print(f\"Import failed: {e}\")"
   ]
  }
 ],
 "metadata": {
  "kernelspec": {
   "display_name": "SpecsimV2",
   "language": "python",
   "name": "python3"
  },
  "language_info": {
   "codemirror_mode": {
    "name": "ipython",
    "version": 3
   },
   "file_extension": ".py",
   "mimetype": "text/x-python",
   "name": "python",
   "nbconvert_exporter": "python",
   "pygments_lexer": "ipython3",
   "version": "3.9.12"
  }
 },
 "nbformat": 4,
 "nbformat_minor": 2
}
